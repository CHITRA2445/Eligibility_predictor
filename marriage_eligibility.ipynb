{
 "cells": [
  {
   "cell_type": "markdown",
   "id": "e8a14d10-13f7-4cd3-adf0-fdd95984b66f",
   "metadata": {},
   "source": [
    "<h1>Marriage Eligibility Predictor</h1>"
   ]
  },
  {
   "cell_type": "markdown",
   "id": "e1418912-3f28-4e26-829d-aad994a02073",
   "metadata": {},
   "source": [
    "<H5>This dataset is self created i.e. typed manually for experimentation with machine learning algorithms . </H5>"
   ]
  },
  {
   "cell_type": "markdown",
   "id": "eb5678f5-b836-447c-b078-2798263fa50b",
   "metadata": {},
   "source": [
    "<h5>Dataset consists of five columns : Name , Country , age , gender , eligibility . It contains data of 169 people acorss countries like India , Japan , South Korea , US , China and Germany.  </h5>"
   ]
  },
  {
   "cell_type": "code",
   "execution_count": 38,
   "id": "c3f0fd16-9e1a-4004-92c6-e10e4823587f",
   "metadata": {},
   "outputs": [
    {
     "name": "stdout",
     "output_type": "stream",
     "text": [
      "Defaulting to user installation because normal site-packages is not writeableNote: you may need to restart the kernel to use updated packages.\n",
      "\n",
      "Collecting scikit-learn==1.5.0\n",
      "  Downloading scikit_learn-1.5.0-cp311-cp311-win_amd64.whl.metadata (11 kB)\n",
      "Requirement already satisfied: numpy>=1.19.5 in c:\\programdata\\anaconda3\\lib\\site-packages (from scikit-learn==1.5.0) (1.26.4)\n",
      "Requirement already satisfied: scipy>=1.6.0 in c:\\programdata\\anaconda3\\lib\\site-packages (from scikit-learn==1.5.0) (1.11.4)\n",
      "Requirement already satisfied: joblib>=1.2.0 in c:\\programdata\\anaconda3\\lib\\site-packages (from scikit-learn==1.5.0) (1.2.0)\n",
      "Collecting threadpoolctl>=3.1.0 (from scikit-learn==1.5.0)\n",
      "  Using cached threadpoolctl-3.5.0-py3-none-any.whl.metadata (13 kB)\n",
      "Downloading scikit_learn-1.5.0-cp311-cp311-win_amd64.whl (11.0 MB)\n",
      "   ---------------------------------------- 0.0/11.0 MB ? eta -:--:--\n",
      "   ---------------------------------------- 0.0/11.0 MB ? eta -:--:--\n",
      "   ---------------------------------------- 0.1/11.0 MB 1.2 MB/s eta 0:00:10\n",
      "    --------------------------------------- 0.1/11.0 MB 1.2 MB/s eta 0:00:09\n",
      "    --------------------------------------- 0.2/11.0 MB 1.2 MB/s eta 0:00:10\n",
      "    --------------------------------------- 0.3/11.0 MB 1.2 MB/s eta 0:00:09\n",
      "   - -------------------------------------- 0.3/11.0 MB 1.3 MB/s eta 0:00:09\n",
      "   - -------------------------------------- 0.4/11.0 MB 1.2 MB/s eta 0:00:09\n",
      "   - -------------------------------------- 0.4/11.0 MB 1.2 MB/s eta 0:00:09\n",
      "   - -------------------------------------- 0.5/11.0 MB 1.2 MB/s eta 0:00:09\n",
      "   - -------------------------------------- 0.5/11.0 MB 1.1 MB/s eta 0:00:10\n",
      "   - -------------------------------------- 0.5/11.0 MB 1.1 MB/s eta 0:00:10\n",
      "   -- ------------------------------------- 0.6/11.0 MB 1.1 MB/s eta 0:00:10\n",
      "   -- ------------------------------------- 0.6/11.0 MB 1.1 MB/s eta 0:00:10\n",
      "   -- ------------------------------------- 0.7/11.0 MB 1.1 MB/s eta 0:00:10\n",
      "   -- ------------------------------------- 0.7/11.0 MB 1.1 MB/s eta 0:00:10\n",
      "   -- ------------------------------------- 0.8/11.0 MB 1.1 MB/s eta 0:00:10\n",
      "   --- ------------------------------------ 0.9/11.0 MB 1.1 MB/s eta 0:00:10\n",
      "   --- ------------------------------------ 0.9/11.0 MB 1.1 MB/s eta 0:00:10\n",
      "   --- ------------------------------------ 0.9/11.0 MB 1.1 MB/s eta 0:00:10\n",
      "   --- ------------------------------------ 1.0/11.0 MB 1.1 MB/s eta 0:00:10\n",
      "   --- ------------------------------------ 1.0/11.0 MB 1.1 MB/s eta 0:00:10\n",
      "   --- ------------------------------------ 1.1/11.0 MB 1.1 MB/s eta 0:00:10\n",
      "   ---- ----------------------------------- 1.2/11.0 MB 1.1 MB/s eta 0:00:09\n",
      "   ---- ----------------------------------- 1.2/11.0 MB 1.1 MB/s eta 0:00:09\n",
      "   ---- ----------------------------------- 1.3/11.0 MB 1.1 MB/s eta 0:00:09\n",
      "   ---- ----------------------------------- 1.4/11.0 MB 1.1 MB/s eta 0:00:09\n",
      "   ----- ---------------------------------- 1.4/11.0 MB 1.1 MB/s eta 0:00:09\n",
      "   ----- ---------------------------------- 1.5/11.0 MB 1.1 MB/s eta 0:00:09\n",
      "   ----- ---------------------------------- 1.5/11.0 MB 1.1 MB/s eta 0:00:09\n",
      "   ----- ---------------------------------- 1.6/11.0 MB 1.1 MB/s eta 0:00:09\n",
      "   ----- ---------------------------------- 1.6/11.0 MB 1.1 MB/s eta 0:00:09\n",
      "   ------ --------------------------------- 1.7/11.0 MB 1.1 MB/s eta 0:00:09\n",
      "   ------ --------------------------------- 1.7/11.0 MB 1.1 MB/s eta 0:00:09\n",
      "   ------ --------------------------------- 1.8/11.0 MB 1.2 MB/s eta 0:00:08\n",
      "   ------ --------------------------------- 1.9/11.0 MB 1.2 MB/s eta 0:00:08\n",
      "   ------- -------------------------------- 2.0/11.0 MB 1.2 MB/s eta 0:00:08\n",
      "   ------- -------------------------------- 2.1/11.0 MB 1.2 MB/s eta 0:00:08\n",
      "   ------- -------------------------------- 2.1/11.0 MB 1.2 MB/s eta 0:00:08\n",
      "   -------- ------------------------------- 2.2/11.0 MB 1.2 MB/s eta 0:00:08\n",
      "   -------- ------------------------------- 2.3/11.0 MB 1.2 MB/s eta 0:00:08\n",
      "   -------- ------------------------------- 2.4/11.0 MB 1.2 MB/s eta 0:00:07\n",
      "   -------- ------------------------------- 2.4/11.0 MB 1.2 MB/s eta 0:00:07\n",
      "   -------- ------------------------------- 2.5/11.0 MB 1.2 MB/s eta 0:00:07\n",
      "   --------- ------------------------------ 2.5/11.0 MB 1.2 MB/s eta 0:00:07\n",
      "   --------- ------------------------------ 2.6/11.0 MB 1.2 MB/s eta 0:00:07\n",
      "   --------- ------------------------------ 2.6/11.0 MB 1.2 MB/s eta 0:00:07\n",
      "   --------- ------------------------------ 2.7/11.0 MB 1.2 MB/s eta 0:00:07\n",
      "   ---------- ----------------------------- 2.7/11.0 MB 1.2 MB/s eta 0:00:07\n",
      "   ---------- ----------------------------- 2.8/11.0 MB 1.2 MB/s eta 0:00:07\n",
      "   ---------- ----------------------------- 2.8/11.0 MB 1.2 MB/s eta 0:00:07\n",
      "   ---------- ----------------------------- 2.9/11.0 MB 1.2 MB/s eta 0:00:07\n",
      "   ---------- ----------------------------- 2.9/11.0 MB 1.2 MB/s eta 0:00:07\n",
      "   ---------- ----------------------------- 2.9/11.0 MB 1.2 MB/s eta 0:00:07\n",
      "   ---------- ----------------------------- 3.0/11.0 MB 1.2 MB/s eta 0:00:07\n",
      "   ---------- ----------------------------- 3.0/11.0 MB 1.2 MB/s eta 0:00:07\n",
      "   ---------- ----------------------------- 3.0/11.0 MB 1.2 MB/s eta 0:00:07\n",
      "   ----------- ---------------------------- 3.0/11.0 MB 1.1 MB/s eta 0:00:07\n",
      "   ----------- ---------------------------- 3.1/11.0 MB 1.1 MB/s eta 0:00:07\n",
      "   ----------- ---------------------------- 3.1/11.0 MB 1.1 MB/s eta 0:00:07\n",
      "   ----------- ---------------------------- 3.1/11.0 MB 1.1 MB/s eta 0:00:07\n",
      "   ----------- ---------------------------- 3.2/11.0 MB 1.1 MB/s eta 0:00:08\n",
      "   ----------- ---------------------------- 3.2/11.0 MB 1.1 MB/s eta 0:00:08\n",
      "   ----------- ---------------------------- 3.3/11.0 MB 1.1 MB/s eta 0:00:07\n",
      "   ------------ --------------------------- 3.3/11.0 MB 1.1 MB/s eta 0:00:07\n",
      "   ------------ --------------------------- 3.4/11.0 MB 1.1 MB/s eta 0:00:07\n",
      "   ------------ --------------------------- 3.5/11.0 MB 1.1 MB/s eta 0:00:07\n",
      "   ------------ --------------------------- 3.5/11.0 MB 1.1 MB/s eta 0:00:07\n",
      "   ------------ --------------------------- 3.5/11.0 MB 1.1 MB/s eta 0:00:07\n",
      "   ------------ --------------------------- 3.5/11.0 MB 1.1 MB/s eta 0:00:07\n",
      "   ------------ --------------------------- 3.5/11.0 MB 1.1 MB/s eta 0:00:07\n",
      "   ------------- -------------------------- 3.6/11.0 MB 1.1 MB/s eta 0:00:07\n",
      "   ------------- -------------------------- 3.6/11.0 MB 1.1 MB/s eta 0:00:07\n",
      "   ------------- -------------------------- 3.6/11.0 MB 1.1 MB/s eta 0:00:07\n",
      "   ------------- -------------------------- 3.7/11.0 MB 1.1 MB/s eta 0:00:07\n",
      "   ------------- -------------------------- 3.7/11.0 MB 1.1 MB/s eta 0:00:07\n",
      "   ------------- -------------------------- 3.8/11.0 MB 1.1 MB/s eta 0:00:07\n",
      "   -------------- ------------------------- 3.9/11.0 MB 1.1 MB/s eta 0:00:07\n",
      "   -------------- ------------------------- 3.9/11.0 MB 1.1 MB/s eta 0:00:07\n",
      "   -------------- ------------------------- 4.0/11.0 MB 1.1 MB/s eta 0:00:07\n",
      "   -------------- ------------------------- 4.0/11.0 MB 1.1 MB/s eta 0:00:07\n",
      "   -------------- ------------------------- 4.1/11.0 MB 1.1 MB/s eta 0:00:07\n",
      "   --------------- ------------------------ 4.2/11.0 MB 1.1 MB/s eta 0:00:07\n",
      "   --------------- ------------------------ 4.3/11.0 MB 1.1 MB/s eta 0:00:07\n",
      "   --------------- ------------------------ 4.3/11.0 MB 1.1 MB/s eta 0:00:07\n",
      "   --------------- ------------------------ 4.4/11.0 MB 1.1 MB/s eta 0:00:07\n",
      "   ---------------- ----------------------- 4.5/11.0 MB 1.1 MB/s eta 0:00:06\n",
      "   ---------------- ----------------------- 4.5/11.0 MB 1.1 MB/s eta 0:00:06\n",
      "   ---------------- ----------------------- 4.6/11.0 MB 1.1 MB/s eta 0:00:06\n",
      "   ---------------- ----------------------- 4.6/11.0 MB 1.1 MB/s eta 0:00:06\n",
      "   ---------------- ----------------------- 4.6/11.0 MB 1.1 MB/s eta 0:00:06\n",
      "   ----------------- ---------------------- 4.7/11.0 MB 1.1 MB/s eta 0:00:06\n",
      "   ----------------- ---------------------- 4.7/11.0 MB 1.1 MB/s eta 0:00:06\n",
      "   ----------------- ---------------------- 4.7/11.0 MB 1.1 MB/s eta 0:00:06\n",
      "   ----------------- ---------------------- 4.7/11.0 MB 1.1 MB/s eta 0:00:06\n",
      "   ----------------- ---------------------- 4.8/11.0 MB 1.1 MB/s eta 0:00:06\n",
      "   ----------------- ---------------------- 4.8/11.0 MB 1.1 MB/s eta 0:00:06\n",
      "   ----------------- ---------------------- 4.8/11.0 MB 1.1 MB/s eta 0:00:06\n",
      "   ----------------- ---------------------- 4.8/11.0 MB 1.0 MB/s eta 0:00:06\n",
      "   ----------------- ---------------------- 4.8/11.0 MB 1.0 MB/s eta 0:00:06\n",
      "   ----------------- ---------------------- 4.8/11.0 MB 1.0 MB/s eta 0:00:06\n",
      "   ----------------- ---------------------- 4.9/11.0 MB 1.0 MB/s eta 0:00:06\n",
      "   ----------------- ---------------------- 4.9/11.0 MB 1.0 MB/s eta 0:00:06\n",
      "   ------------------ --------------------- 5.0/11.0 MB 1.0 MB/s eta 0:00:06\n",
      "   ------------------ --------------------- 5.0/11.0 MB 1.0 MB/s eta 0:00:06\n",
      "   ------------------ --------------------- 5.0/11.0 MB 1.0 MB/s eta 0:00:06\n",
      "   ------------------ --------------------- 5.0/11.0 MB 1.0 MB/s eta 0:00:06\n",
      "   ------------------ --------------------- 5.1/11.0 MB 1.0 MB/s eta 0:00:06\n",
      "   ------------------ --------------------- 5.1/11.0 MB 1.0 MB/s eta 0:00:06\n",
      "   ------------------ --------------------- 5.1/11.0 MB 1.0 MB/s eta 0:00:06\n",
      "   ------------------ --------------------- 5.2/11.0 MB 999.0 kB/s eta 0:00:06\n",
      "   ------------------ --------------------- 5.2/11.0 MB 995.0 kB/s eta 0:00:06\n",
      "   ------------------- -------------------- 5.2/11.0 MB 993.9 kB/s eta 0:00:06\n",
      "   ------------------- -------------------- 5.3/11.0 MB 993.8 kB/s eta 0:00:06\n",
      "   ------------------- -------------------- 5.3/11.0 MB 994.7 kB/s eta 0:00:06\n",
      "   ------------------- -------------------- 5.4/11.0 MB 990.7 kB/s eta 0:00:06\n",
      "   ------------------- -------------------- 5.4/11.0 MB 992.5 kB/s eta 0:00:06\n",
      "   -------------------- ------------------- 5.5/11.0 MB 996.1 kB/s eta 0:00:06\n",
      "   -------------------- ------------------- 5.6/11.0 MB 996.0 kB/s eta 0:00:06\n",
      "   -------------------- ------------------- 5.6/11.0 MB 994.2 kB/s eta 0:00:06\n",
      "   -------------------- ------------------- 5.6/11.0 MB 990.3 kB/s eta 0:00:06\n",
      "   -------------------- ------------------- 5.7/11.0 MB 991.1 kB/s eta 0:00:06\n",
      "   -------------------- ------------------- 5.7/11.0 MB 988.4 kB/s eta 0:00:06\n",
      "   -------------------- ------------------- 5.7/11.0 MB 991.9 kB/s eta 0:00:06\n",
      "   --------------------- ------------------ 5.8/11.0 MB 990.2 kB/s eta 0:00:06\n",
      "   --------------------- ------------------ 5.9/11.0 MB 992.7 kB/s eta 0:00:06\n",
      "   --------------------- ------------------ 5.9/11.0 MB 996.9 kB/s eta 0:00:06\n",
      "   --------------------- ------------------ 5.9/11.0 MB 993.5 kB/s eta 0:00:06\n",
      "   --------------------- ------------------ 5.9/11.0 MB 993.5 kB/s eta 0:00:06\n",
      "   --------------------- ------------------ 6.0/11.0 MB 989.0 kB/s eta 0:00:06\n",
      "   ---------------------- ----------------- 6.1/11.0 MB 989.7 kB/s eta 0:00:05\n",
      "   ---------------------- ----------------- 6.1/11.0 MB 989.7 kB/s eta 0:00:05\n",
      "   ---------------------- ----------------- 6.2/11.0 MB 988.1 kB/s eta 0:00:05\n",
      "   ---------------------- ----------------- 6.2/11.0 MB 988.9 kB/s eta 0:00:05\n",
      "   ---------------------- ----------------- 6.3/11.0 MB 989.6 kB/s eta 0:00:05\n",
      "   ---------------------- ----------------- 6.3/11.0 MB 990.3 kB/s eta 0:00:05\n",
      "   ----------------------- ---------------- 6.3/11.0 MB 987.9 kB/s eta 0:00:05\n",
      "   ----------------------- ---------------- 6.3/11.0 MB 984.7 kB/s eta 0:00:05\n",
      "   ----------------------- ---------------- 6.4/11.0 MB 981.5 kB/s eta 0:00:05\n",
      "   ----------------------- ---------------- 6.4/11.0 MB 979.3 kB/s eta 0:00:05\n",
      "   ----------------------- ---------------- 6.5/11.0 MB 974.6 kB/s eta 0:00:05\n",
      "   ----------------------- ---------------- 6.5/11.0 MB 974.6 kB/s eta 0:00:05\n",
      "   ----------------------- ---------------- 6.5/11.0 MB 970.1 kB/s eta 0:00:05\n",
      "   ----------------------- ---------------- 6.6/11.0 MB 969.4 kB/s eta 0:00:05\n",
      "   ------------------------ --------------- 6.6/11.0 MB 969.5 kB/s eta 0:00:05\n",
      "   ------------------------ --------------- 6.6/11.0 MB 970.3 kB/s eta 0:00:05\n",
      "   ------------------------ --------------- 6.7/11.0 MB 970.5 kB/s eta 0:00:05\n",
      "   ------------------------ --------------- 6.7/11.0 MB 969.1 kB/s eta 0:00:05\n",
      "   ------------------------ --------------- 6.8/11.0 MB 971.4 kB/s eta 0:00:05\n",
      "   ------------------------ --------------- 6.8/11.0 MB 970.0 kB/s eta 0:00:05\n",
      "   ------------------------- -------------- 6.9/11.0 MB 970.1 kB/s eta 0:00:05\n",
      "   ------------------------- -------------- 6.9/11.0 MB 968.7 kB/s eta 0:00:05\n",
      "   ------------------------- -------------- 7.0/11.0 MB 969.6 kB/s eta 0:00:05\n",
      "   ------------------------- -------------- 7.0/11.0 MB 969.6 kB/s eta 0:00:05\n",
      "   ------------------------- -------------- 7.0/11.0 MB 969.6 kB/s eta 0:00:05\n",
      "   ------------------------- -------------- 7.1/11.0 MB 968.4 kB/s eta 0:00:05\n",
      "   -------------------------- ------------- 7.1/11.0 MB 968.5 kB/s eta 0:00:04\n",
      "   -------------------------- ------------- 7.2/11.0 MB 969.2 kB/s eta 0:00:04\n",
      "   -------------------------- ------------- 7.2/11.0 MB 971.4 kB/s eta 0:00:04\n",
      "   -------------------------- ------------- 7.3/11.0 MB 972.1 kB/s eta 0:00:04\n",
      "   -------------------------- ------------- 7.4/11.0 MB 973.0 kB/s eta 0:00:04\n",
      "   --------------------------- ------------ 7.4/11.0 MB 973.0 kB/s eta 0:00:04\n",
      "   --------------------------- ------------ 7.5/11.0 MB 973.7 kB/s eta 0:00:04\n",
      "   --------------------------- ------------ 7.5/11.0 MB 973.8 kB/s eta 0:00:04\n",
      "   --------------------------- ------------ 7.5/11.0 MB 974.5 kB/s eta 0:00:04\n",
      "   --------------------------- ------------ 7.6/11.0 MB 975.9 kB/s eta 0:00:04\n",
      "   --------------------------- ------------ 7.7/11.0 MB 975.3 kB/s eta 0:00:04\n",
      "   ---------------------------- ----------- 7.7/11.0 MB 976.5 kB/s eta 0:00:04\n",
      "   ---------------------------- ----------- 7.7/11.0 MB 974.1 kB/s eta 0:00:04\n",
      "   ---------------------------- ----------- 7.8/11.0 MB 974.7 kB/s eta 0:00:04\n",
      "   ---------------------------- ----------- 7.8/11.0 MB 975.4 kB/s eta 0:00:04\n",
      "   ---------------------------- ----------- 7.9/11.0 MB 976.1 kB/s eta 0:00:04\n",
      "   ---------------------------- ----------- 7.9/11.0 MB 976.7 kB/s eta 0:00:04\n",
      "   ----------------------------- ---------- 8.0/11.0 MB 976.3 kB/s eta 0:00:04\n",
      "   ----------------------------- ---------- 8.0/11.0 MB 973.2 kB/s eta 0:00:04\n",
      "   ----------------------------- ---------- 8.1/11.0 MB 973.8 kB/s eta 0:00:03\n",
      "   ----------------------------- ---------- 8.1/11.0 MB 972.0 kB/s eta 0:00:03\n",
      "   ----------------------------- ---------- 8.1/11.0 MB 972.6 kB/s eta 0:00:03\n",
      "   ----------------------------- ---------- 8.1/11.0 MB 966.6 kB/s eta 0:00:03\n",
      "   ----------------------------- ---------- 8.2/11.0 MB 962.0 kB/s eta 0:00:03\n",
      "   ----------------------------- ---------- 8.2/11.0 MB 962.0 kB/s eta 0:00:03\n",
      "   ----------------------------- ---------- 8.2/11.0 MB 957.4 kB/s eta 0:00:03\n",
      "   ------------------------------ --------- 8.3/11.0 MB 955.7 kB/s eta 0:00:03\n",
      "   ------------------------------ --------- 8.3/11.0 MB 954.8 kB/s eta 0:00:03\n",
      "   ------------------------------ --------- 8.3/11.0 MB 952.6 kB/s eta 0:00:03\n",
      "   ------------------------------ --------- 8.4/11.0 MB 953.3 kB/s eta 0:00:03\n",
      "   ------------------------------ --------- 8.4/11.0 MB 952.3 kB/s eta 0:00:03\n",
      "   ------------------------------ --------- 8.4/11.0 MB 951.3 kB/s eta 0:00:03\n",
      "   ------------------------------ --------- 8.5/11.0 MB 948.1 kB/s eta 0:00:03\n",
      "   ------------------------------ --------- 8.5/11.0 MB 946.6 kB/s eta 0:00:03\n",
      "   ------------------------------- -------- 8.5/11.0 MB 947.2 kB/s eta 0:00:03\n",
      "   ------------------------------- -------- 8.6/11.0 MB 943.5 kB/s eta 0:00:03\n",
      "   ------------------------------- -------- 8.6/11.0 MB 944.3 kB/s eta 0:00:03\n",
      "   ------------------------------- -------- 8.6/11.0 MB 944.5 kB/s eta 0:00:03\n",
      "   ------------------------------- -------- 8.7/11.0 MB 942.4 kB/s eta 0:00:03\n",
      "   ------------------------------- -------- 8.7/11.0 MB 941.0 kB/s eta 0:00:03\n",
      "   ------------------------------- -------- 8.7/11.0 MB 939.6 kB/s eta 0:00:03\n",
      "   -------------------------------- ------- 8.8/11.0 MB 942.0 kB/s eta 0:00:03\n",
      "   -------------------------------- ------- 8.8/11.0 MB 939.5 kB/s eta 0:00:03\n",
      "   -------------------------------- ------- 8.9/11.0 MB 939.1 kB/s eta 0:00:03\n",
      "   -------------------------------- ------- 8.9/11.0 MB 936.7 kB/s eta 0:00:03\n",
      "   -------------------------------- ------- 8.9/11.0 MB 936.9 kB/s eta 0:00:03\n",
      "   -------------------------------- ------- 9.0/11.0 MB 937.6 kB/s eta 0:00:03\n",
      "   -------------------------------- ------- 9.0/11.0 MB 936.2 kB/s eta 0:00:03\n",
      "   --------------------------------- ------ 9.1/11.0 MB 935.5 kB/s eta 0:00:03\n",
      "   --------------------------------- ------ 9.1/11.0 MB 934.6 kB/s eta 0:00:03\n",
      "   --------------------------------- ------ 9.1/11.0 MB 933.3 kB/s eta 0:00:02\n",
      "   --------------------------------- ------ 9.1/11.0 MB 933.3 kB/s eta 0:00:02\n",
      "   --------------------------------- ------ 9.2/11.0 MB 928.1 kB/s eta 0:00:02\n",
      "   --------------------------------- ------ 9.2/11.0 MB 927.9 kB/s eta 0:00:02\n",
      "   --------------------------------- ------ 9.3/11.0 MB 928.7 kB/s eta 0:00:02\n",
      "   ---------------------------------- ----- 9.3/11.0 MB 932.5 kB/s eta 0:00:02\n",
      "   ---------------------------------- ----- 9.4/11.0 MB 935.3 kB/s eta 0:00:02\n",
      "   ---------------------------------- ----- 9.5/11.0 MB 933.9 kB/s eta 0:00:02\n",
      "   ---------------------------------- ----- 9.5/11.0 MB 935.7 kB/s eta 0:00:02\n",
      "   ---------------------------------- ----- 9.6/11.0 MB 936.4 kB/s eta 0:00:02\n",
      "   ---------------------------------- ----- 9.6/11.0 MB 936.5 kB/s eta 0:00:02\n",
      "   ----------------------------------- ---- 9.6/11.0 MB 935.9 kB/s eta 0:00:02\n",
      "   ----------------------------------- ---- 9.7/11.0 MB 936.1 kB/s eta 0:00:02\n",
      "   ----------------------------------- ---- 9.7/11.0 MB 938.1 kB/s eta 0:00:02\n",
      "   ----------------------------------- ---- 9.8/11.0 MB 933.6 kB/s eta 0:00:02\n",
      "   ----------------------------------- ---- 9.8/11.0 MB 933.3 kB/s eta 0:00:02\n",
      "   ----------------------------------- ---- 9.8/11.0 MB 933.5 kB/s eta 0:00:02\n",
      "   ----------------------------------- ---- 9.9/11.0 MB 932.2 kB/s eta 0:00:02\n",
      "   ------------------------------------ --- 9.9/11.0 MB 932.0 kB/s eta 0:00:02\n",
      "   ------------------------------------ --- 10.0/11.0 MB 930.4 kB/s eta 0:00:02\n",
      "   ------------------------------------ --- 10.0/11.0 MB 931.5 kB/s eta 0:00:02\n",
      "   ------------------------------------ --- 10.0/11.0 MB 929.7 kB/s eta 0:00:02\n",
      "   ------------------------------------ --- 10.1/11.0 MB 929.6 kB/s eta 0:00:01\n",
      "   ------------------------------------ --- 10.1/11.0 MB 928.4 kB/s eta 0:00:01\n",
      "   ------------------------------------ --- 10.1/11.0 MB 927.3 kB/s eta 0:00:01\n",
      "   ------------------------------------- -- 10.2/11.0 MB 927.4 kB/s eta 0:00:01\n",
      "   ------------------------------------- -- 10.2/11.0 MB 926.3 kB/s eta 0:00:01\n",
      "   ------------------------------------- -- 10.2/11.0 MB 926.1 kB/s eta 0:00:01\n",
      "   ------------------------------------- -- 10.2/11.0 MB 926.1 kB/s eta 0:00:01\n",
      "   ------------------------------------- -- 10.3/11.0 MB 922.2 kB/s eta 0:00:01\n",
      "   ------------------------------------- -- 10.4/11.0 MB 922.1 kB/s eta 0:00:01\n",
      "   -------------------------------------- - 10.4/11.0 MB 922.1 kB/s eta 0:00:01\n",
      "   -------------------------------------- - 10.5/11.0 MB 922.2 kB/s eta 0:00:01\n",
      "   -------------------------------------- - 10.5/11.0 MB 920.9 kB/s eta 0:00:01\n",
      "   -------------------------------------- - 10.5/11.0 MB 918.3 kB/s eta 0:00:01\n",
      "   -------------------------------------- - 10.6/11.0 MB 920.9 kB/s eta 0:00:01\n",
      "   -------------------------------------- - 10.7/11.0 MB 918.2 kB/s eta 0:00:01\n",
      "   ---------------------------------------  10.7/11.0 MB 924.7 kB/s eta 0:00:01\n",
      "   ---------------------------------------  10.8/11.0 MB 924.8 kB/s eta 0:00:01\n",
      "   ---------------------------------------  10.9/11.0 MB 927.3 kB/s eta 0:00:01\n",
      "   ---------------------------------------  10.9/11.0 MB 927.4 kB/s eta 0:00:01\n",
      "   ---------------------------------------  10.9/11.0 MB 924.8 kB/s eta 0:00:01\n",
      "   ---------------------------------------  11.0/11.0 MB 922.1 kB/s eta 0:00:01\n",
      "   ---------------------------------------  11.0/11.0 MB 922.1 kB/s eta 0:00:01\n",
      "   ---------------------------------------- 11.0/11.0 MB 915.3 kB/s eta 0:00:00\n",
      "Using cached threadpoolctl-3.5.0-py3-none-any.whl (18 kB)\n",
      "Installing collected packages: threadpoolctl, scikit-learn\n",
      "Successfully installed scikit-learn-1.5.0 threadpoolctl-3.5.0\n"
     ]
    }
   ],
   "source": [
    "pip install scikit-learn==1.5.0"
   ]
  },
  {
   "cell_type": "code",
   "execution_count": null,
   "id": "805a885e-c1ac-4724-bd04-431827e38015",
   "metadata": {},
   "outputs": [],
   "source": []
  },
  {
   "cell_type": "markdown",
   "id": "ceab7289-af94-4078-969e-4d64be8b47f7",
   "metadata": {},
   "source": [
    "<h4>importing required modules</h4>"
   ]
  },
  {
   "cell_type": "code",
   "execution_count": 1,
   "id": "f9b0838b-16c1-48b4-acb4-1c4e73a04d78",
   "metadata": {},
   "outputs": [],
   "source": [
    "import numpy as np\n",
    "import pandas as pd\n",
    "import matplotlib.pyplot as plt\n",
    "import seaborn as sns\n",
    "import warnings\n",
    "warnings.filterwarnings(\"ignore\")\n"
   ]
  },
  {
   "cell_type": "markdown",
   "id": "4b5213f8-c08a-4d38-a71f-9d0254502309",
   "metadata": {},
   "source": [
    "<h4>Reading datafile</h4>"
   ]
  },
  {
   "cell_type": "code",
   "execution_count": 2,
   "id": "567786e5-411a-45ab-b7e5-e71cdc8b6650",
   "metadata": {},
   "outputs": [],
   "source": [
    "df=pd.read_csv(\"marriagedata.csv\")"
   ]
  },
  {
   "cell_type": "code",
   "execution_count": 3,
   "id": "3ed9a3d2-fb35-4918-8139-c6e9857d4cad",
   "metadata": {},
   "outputs": [
    {
     "data": {
      "text/plain": [
       "(169, 5)"
      ]
     },
     "execution_count": 3,
     "metadata": {},
     "output_type": "execute_result"
    }
   ],
   "source": [
    "df.shape"
   ]
  },
  {
   "cell_type": "code",
   "execution_count": 6,
   "id": "4b05cd53-e952-4283-b06a-f5b71047c8a6",
   "metadata": {},
   "outputs": [
    {
     "data": {
      "text/html": [
       "<div>\n",
       "<style scoped>\n",
       "    .dataframe tbody tr th:only-of-type {\n",
       "        vertical-align: middle;\n",
       "    }\n",
       "\n",
       "    .dataframe tbody tr th {\n",
       "        vertical-align: top;\n",
       "    }\n",
       "\n",
       "    .dataframe thead th {\n",
       "        text-align: right;\n",
       "    }\n",
       "</style>\n",
       "<table border=\"1\" class=\"dataframe\">\n",
       "  <thead>\n",
       "    <tr style=\"text-align: right;\">\n",
       "      <th></th>\n",
       "      <th>NAME</th>\n",
       "      <th>COUNTRY</th>\n",
       "      <th>AGE</th>\n",
       "      <th>GENDER</th>\n",
       "      <th>ELIGIBILTY</th>\n",
       "    </tr>\n",
       "  </thead>\n",
       "  <tbody>\n",
       "    <tr>\n",
       "      <th>0</th>\n",
       "      <td>AYUSH TIWARI</td>\n",
       "      <td>INDIA</td>\n",
       "      <td>20</td>\n",
       "      <td>MALE</td>\n",
       "      <td>NO</td>\n",
       "    </tr>\n",
       "    <tr>\n",
       "      <th>1</th>\n",
       "      <td>HA JUN</td>\n",
       "      <td>SOUTH KOREA</td>\n",
       "      <td>45</td>\n",
       "      <td>MALE</td>\n",
       "      <td>YES</td>\n",
       "    </tr>\n",
       "    <tr>\n",
       "      <th>2</th>\n",
       "      <td>SARAH</td>\n",
       "      <td>US</td>\n",
       "      <td>30</td>\n",
       "      <td>FEMALE</td>\n",
       "      <td>YES</td>\n",
       "    </tr>\n",
       "    <tr>\n",
       "      <th>3</th>\n",
       "      <td>CAREL</td>\n",
       "      <td>GERMANY</td>\n",
       "      <td>18</td>\n",
       "      <td>MALE</td>\n",
       "      <td>YES</td>\n",
       "    </tr>\n",
       "    <tr>\n",
       "      <th>4</th>\n",
       "      <td>FANG</td>\n",
       "      <td>CHINA</td>\n",
       "      <td>20</td>\n",
       "      <td>FEMALE</td>\n",
       "      <td>YES</td>\n",
       "    </tr>\n",
       "    <tr>\n",
       "      <th>5</th>\n",
       "      <td>MAYANK DEV SINGH</td>\n",
       "      <td>INDIA</td>\n",
       "      <td>54</td>\n",
       "      <td>MALE</td>\n",
       "      <td>YES</td>\n",
       "    </tr>\n",
       "    <tr>\n",
       "      <th>6</th>\n",
       "      <td>AKARI</td>\n",
       "      <td>JAPAN</td>\n",
       "      <td>16</td>\n",
       "      <td>FEMALE</td>\n",
       "      <td>YES</td>\n",
       "    </tr>\n",
       "    <tr>\n",
       "      <th>7</th>\n",
       "      <td>RIYA SHARMA</td>\n",
       "      <td>INDIA</td>\n",
       "      <td>23</td>\n",
       "      <td>FEMALE</td>\n",
       "      <td>YES</td>\n",
       "    </tr>\n",
       "    <tr>\n",
       "      <th>8</th>\n",
       "      <td>ELIZABETH</td>\n",
       "      <td>US</td>\n",
       "      <td>18</td>\n",
       "      <td>FEMALE</td>\n",
       "      <td>YES</td>\n",
       "    </tr>\n",
       "    <tr>\n",
       "      <th>9</th>\n",
       "      <td>AIKO</td>\n",
       "      <td>JAPAN</td>\n",
       "      <td>18</td>\n",
       "      <td>FEMALE</td>\n",
       "      <td>YES</td>\n",
       "    </tr>\n",
       "    <tr>\n",
       "      <th>10</th>\n",
       "      <td>CHAN</td>\n",
       "      <td>CHINA</td>\n",
       "      <td>23</td>\n",
       "      <td>FEMALE</td>\n",
       "      <td>YES</td>\n",
       "    </tr>\n",
       "    <tr>\n",
       "      <th>11</th>\n",
       "      <td>KYUNG</td>\n",
       "      <td>SOUTH KOREA</td>\n",
       "      <td>19</td>\n",
       "      <td>FEMALE</td>\n",
       "      <td>YES</td>\n",
       "    </tr>\n",
       "    <tr>\n",
       "      <th>12</th>\n",
       "      <td>ANUJ BAJPAI</td>\n",
       "      <td>INDIA</td>\n",
       "      <td>18</td>\n",
       "      <td>MALE</td>\n",
       "      <td>NO</td>\n",
       "    </tr>\n",
       "    <tr>\n",
       "      <th>13</th>\n",
       "      <td>AOI</td>\n",
       "      <td>JAPAN</td>\n",
       "      <td>92</td>\n",
       "      <td>MALE</td>\n",
       "      <td>YES</td>\n",
       "    </tr>\n",
       "    <tr>\n",
       "      <th>14</th>\n",
       "      <td>EMILIA SOPHIA</td>\n",
       "      <td>GERMANY</td>\n",
       "      <td>18</td>\n",
       "      <td>FEMALE</td>\n",
       "      <td>YES</td>\n",
       "    </tr>\n",
       "    <tr>\n",
       "      <th>15</th>\n",
       "      <td>FEN</td>\n",
       "      <td>CHINA</td>\n",
       "      <td>20</td>\n",
       "      <td>MALE</td>\n",
       "      <td>NO</td>\n",
       "    </tr>\n",
       "    <tr>\n",
       "      <th>16</th>\n",
       "      <td>AERA</td>\n",
       "      <td>SOUTH KOREA</td>\n",
       "      <td>23</td>\n",
       "      <td>FEMALE</td>\n",
       "      <td>YES</td>\n",
       "    </tr>\n",
       "    <tr>\n",
       "      <th>17</th>\n",
       "      <td>NIKITA GOEL</td>\n",
       "      <td>INDIA</td>\n",
       "      <td>17</td>\n",
       "      <td>FEMALE</td>\n",
       "      <td>NO</td>\n",
       "    </tr>\n",
       "    <tr>\n",
       "      <th>18</th>\n",
       "      <td>HIKARO</td>\n",
       "      <td>JAPAN</td>\n",
       "      <td>16</td>\n",
       "      <td>MALE</td>\n",
       "      <td>NO</td>\n",
       "    </tr>\n",
       "    <tr>\n",
       "      <th>19</th>\n",
       "      <td>LIAM</td>\n",
       "      <td>US</td>\n",
       "      <td>17</td>\n",
       "      <td>MALE</td>\n",
       "      <td>NO</td>\n",
       "    </tr>\n",
       "  </tbody>\n",
       "</table>\n",
       "</div>"
      ],
      "text/plain": [
       "                 NAME      COUNTRY  AGE  GENDER ELIGIBILTY\n",
       "0        AYUSH TIWARI        INDIA   20    MALE         NO\n",
       "1              HA JUN  SOUTH KOREA   45    MALE        YES\n",
       "2              SARAH            US   30  FEMALE        YES\n",
       "3               CAREL      GERMANY   18    MALE        YES\n",
       "4                FANG        CHINA   20  FEMALE        YES\n",
       "5   MAYANK DEV SINGH         INDIA   54    MALE        YES\n",
       "6               AKARI        JAPAN   16  FEMALE        YES\n",
       "7         RIYA SHARMA        INDIA   23  FEMALE        YES\n",
       "8           ELIZABETH           US   18  FEMALE        YES\n",
       "9                AIKO        JAPAN   18  FEMALE        YES\n",
       "10               CHAN        CHINA   23  FEMALE        YES\n",
       "11              KYUNG  SOUTH KOREA   19  FEMALE        YES\n",
       "12        ANUJ BAJPAI        INDIA   18    MALE         NO\n",
       "13                AOI        JAPAN   92    MALE        YES\n",
       "14     EMILIA SOPHIA       GERMANY   18  FEMALE        YES\n",
       "15                FEN        CHINA   20    MALE         NO\n",
       "16               AERA  SOUTH KOREA   23  FEMALE        YES\n",
       "17        NIKITA GOEL        INDIA   17  FEMALE         NO\n",
       "18             HIKARO        JAPAN   16    MALE         NO\n",
       "19               LIAM           US   17    MALE         NO"
      ]
     },
     "execution_count": 6,
     "metadata": {},
     "output_type": "execute_result"
    }
   ],
   "source": [
    "df.head(20)"
   ]
  },
  {
   "cell_type": "code",
   "execution_count": 7,
   "id": "a4214e76-da8e-49e5-aa47-2302d2c3f0f9",
   "metadata": {},
   "outputs": [
    {
     "name": "stdout",
     "output_type": "stream",
     "text": [
      "<class 'pandas.core.frame.DataFrame'>\n",
      "RangeIndex: 169 entries, 0 to 168\n",
      "Data columns (total 5 columns):\n",
      " #   Column      Non-Null Count  Dtype \n",
      "---  ------      --------------  ----- \n",
      " 0   NAME        169 non-null    object\n",
      " 1   COUNTRY     169 non-null    object\n",
      " 2   AGE         169 non-null    int64 \n",
      " 3   GENDER      169 non-null    object\n",
      " 4   ELIGIBILTY  169 non-null    object\n",
      "dtypes: int64(1), object(4)\n",
      "memory usage: 6.7+ KB\n"
     ]
    }
   ],
   "source": [
    "df.info()"
   ]
  },
  {
   "cell_type": "code",
   "execution_count": 21,
   "id": "67e89572-a4be-42a3-89b0-37dc72a884b8",
   "metadata": {},
   "outputs": [
    {
     "data": {
      "text/html": [
       "<div>\n",
       "<style scoped>\n",
       "    .dataframe tbody tr th:only-of-type {\n",
       "        vertical-align: middle;\n",
       "    }\n",
       "\n",
       "    .dataframe tbody tr th {\n",
       "        vertical-align: top;\n",
       "    }\n",
       "\n",
       "    .dataframe thead th {\n",
       "        text-align: right;\n",
       "    }\n",
       "</style>\n",
       "<table border=\"1\" class=\"dataframe\">\n",
       "  <thead>\n",
       "    <tr style=\"text-align: right;\">\n",
       "      <th></th>\n",
       "      <th>AGE</th>\n",
       "    </tr>\n",
       "  </thead>\n",
       "  <tbody>\n",
       "    <tr>\n",
       "      <th>count</th>\n",
       "      <td>169.000000</td>\n",
       "    </tr>\n",
       "    <tr>\n",
       "      <th>mean</th>\n",
       "      <td>35.846154</td>\n",
       "    </tr>\n",
       "    <tr>\n",
       "      <th>std</th>\n",
       "      <td>27.158924</td>\n",
       "    </tr>\n",
       "    <tr>\n",
       "      <th>min</th>\n",
       "      <td>10.000000</td>\n",
       "    </tr>\n",
       "    <tr>\n",
       "      <th>25%</th>\n",
       "      <td>16.000000</td>\n",
       "    </tr>\n",
       "    <tr>\n",
       "      <th>50%</th>\n",
       "      <td>21.000000</td>\n",
       "    </tr>\n",
       "    <tr>\n",
       "      <th>75%</th>\n",
       "      <td>56.000000</td>\n",
       "    </tr>\n",
       "    <tr>\n",
       "      <th>max</th>\n",
       "      <td>100.000000</td>\n",
       "    </tr>\n",
       "  </tbody>\n",
       "</table>\n",
       "</div>"
      ],
      "text/plain": [
       "              AGE\n",
       "count  169.000000\n",
       "mean    35.846154\n",
       "std     27.158924\n",
       "min     10.000000\n",
       "25%     16.000000\n",
       "50%     21.000000\n",
       "75%     56.000000\n",
       "max    100.000000"
      ]
     },
     "execution_count": 21,
     "metadata": {},
     "output_type": "execute_result"
    }
   ],
   "source": [
    "df.describe()"
   ]
  },
  {
   "cell_type": "code",
   "execution_count": 22,
   "id": "2004eba1-b6c5-4655-b17f-2827ecbd0dc2",
   "metadata": {},
   "outputs": [
    {
     "data": {
      "text/plain": [
       "NAME          0\n",
       "COUNTRY       0\n",
       "AGE           0\n",
       "GENDER        0\n",
       "ELIGIBILTY    0\n",
       "dtype: int64"
      ]
     },
     "execution_count": 22,
     "metadata": {},
     "output_type": "execute_result"
    }
   ],
   "source": [
    "(df.isnull() | df.empty | df.isna()).sum()"
   ]
  },
  {
   "cell_type": "code",
   "execution_count": 11,
   "id": "4e6fd9c3-ee8c-43a7-9560-2d71abe06392",
   "metadata": {},
   "outputs": [],
   "source": [
    "### Data contains no missing values"
   ]
  },
  {
   "cell_type": "code",
   "execution_count": 23,
   "id": "ca41bdb9-3034-493c-96fe-ab909c25c210",
   "metadata": {},
   "outputs": [
    {
     "name": "stdout",
     "output_type": "stream",
     "text": [
      "['INDIA', 'SOUTH KOREA', 'US', 'GERMANY', 'CHINA', 'JAPAN']\n"
     ]
    }
   ],
   "source": [
    "print(list(df[\"COUNTRY\"].unique()))"
   ]
  },
  {
   "cell_type": "markdown",
   "id": "1ebc26dc-eb4c-4b05-bed8-5fa142274c02",
   "metadata": {},
   "source": [
    "<h4>Visualizing the data</h4>"
   ]
  },
  {
   "cell_type": "code",
   "execution_count": 7,
   "id": "8a102f05-c670-42db-b6a8-899d7a07b14c",
   "metadata": {},
   "outputs": [
    {
     "data": {
      "image/png": "[encoded data removed]",
      "text/plain": [
       "<Figure size 1200x800 with 1 Axes>"
      ]
     },
     "metadata": {},
     "output_type": "display_data"
    }
   ],
   "source": [
    "import matplotlib.pyplot as plt\n",
    "import pandas as pd\n",
    "import numpy as np\n",
    "\n",
    "\n",
    "unique_countries = df['COUNTRY'].unique()\n",
    "country_to_num = {country: i for i, country in enumerate(unique_countries)}\n",
    "\n",
    "# Convert countries to numeric values\n",
    "df['country_num'] = df['COUNTRY'].map(country_to_num)\n",
    "\n",
    "# Create the scatter plot\n",
    "plt.figure(figsize=(12, 8))\n",
    "\n",
    "\n",
    "for gender in df['GENDER'].unique():\n",
    "    mask = df['GENDER'] == gender\n",
    "    eligible = df.loc[mask, 'ELIGIBILTY'] == 'YES'\n",
    "    \n",
    "    plt.scatter(df.loc[mask & eligible, 'AGE'], df.loc[mask & eligible, 'country_num'], \n",
    "                marker='o', label=f'{gender} (Eligible)', alpha=0.7)\n",
    "    plt.scatter(df.loc[mask & ~eligible, 'AGE'], df.loc[mask & ~eligible, 'country_num'], \n",
    "                marker='x', label=f'{gender} (Not Eligible)', alpha=0.7)\n",
    "\n",
    "plt.xlabel('Age')\n",
    "plt.ylabel('Country')\n",
    "plt.yticks(range(len(unique_countries)), unique_countries)\n",
    "plt.title('Age, Gender, Eligibility, and Country Distribution')\n",
    "plt.legend()\n",
    "plt.grid(True, linestyle='--', alpha=0.7)\n",
    "\n",
    "\n",
    "for _, row in df.iterrows():\n",
    "    plt.annotate(str(row['AGE']), (row['AGE'], row['country_num']), \n",
    "                 xytext=(5, 5), textcoords='offset points', fontsize=8)\n",
    "\n",
    "plt.tight_layout()\n",
    "plt.show()"
   ]
  },
  {
   "cell_type": "markdown",
   "id": "e8d188d1-b6c3-4b02-99c2-cea48f4f87a1",
   "metadata": {},
   "source": [
    "<h5>We can see that in most of countries people below 18 are ineligible to marry though this number differs a bit according to gender</h5>"
   ]
  },
  {
   "cell_type": "code",
   "execution_count": null,
   "id": "91750478-0079-46b5-bdbe-04c282232573",
   "metadata": {},
   "outputs": [],
   "source": []
  },
  {
   "cell_type": "code",
   "execution_count": null,
   "id": "13087112-b2f2-44e0-b936-6826651f86b4",
   "metadata": {},
   "outputs": [],
   "source": []
  },
  {
   "cell_type": "markdown",
   "id": "52e7e151-a0ef-460b-93bf-23cff7a8186b",
   "metadata": {},
   "source": [
    "<h4>Preprocessing the data</h4>"
   ]
  },
  {
   "cell_type": "code",
   "execution_count": 10,
   "id": "88aaac0f-e845-4593-8d25-f675d577bfd8",
   "metadata": {},
   "outputs": [],
   "source": [
    "from sklearn.preprocessing import OneHotEncoder, OrdinalEncoder\n",
    "from sklearn.compose import ColumnTransformer\n",
    "preprocessor = ColumnTransformer(\n",
    "    transformers=[\n",
    "        ('num', 'passthrough', ['AGE']),\n",
    "        ('cat', OneHotEncoder(drop='first'), ['COUNTRY', 'GENDER']),\n",
    "        \n",
    "    ])\n"
   ]
  },
  {
   "cell_type": "markdown",
   "id": "04ce9898-ad3c-4c65-8f7a-3c4b324e4676",
   "metadata": {},
   "source": [
    "<h3>Model building and evaluation</h3>"
   ]
  },
  {
   "cell_type": "code",
   "execution_count": 11,
   "id": "2063d1f2-1723-4145-9263-f58bac6db081",
   "metadata": {},
   "outputs": [],
   "source": [
    "from sklearn.model_selection import train_test_split\n",
    "x = df.drop([\"NAME\", \"ELIGIBILTY\"], axis=1)\n",
    "y = df[\"ELIGIBILTY\"]\n",
    "xTrain, xTest, yTrain, yTest = train_test_split(x,y,test_size=0.30,random_state=42)\n",
    "X_train_processed = preprocessor.fit_transform(xTrain)\n",
    "\n",
    "# Transform the test data\n",
    "X_test_processed = preprocessor.transform(xTest)\n"
   ]
  },
  {
   "cell_type": "markdown",
   "id": "53c91502-16ab-492c-8657-7676c10713b7",
   "metadata": {},
   "source": [
    "\n",
    "<h3>Decision tree</h3>"
   ]
  },
  {
   "cell_type": "code",
   "execution_count": 7,
   "id": "9ccfb7d8-4559-489b-87e3-0e6687fd1787",
   "metadata": {},
   "outputs": [],
   "source": [
    "from sklearn.tree import DecisionTreeClassifier\n",
    "dt = DecisionTreeClassifier(max_depth=5,criterion='gini')\n",
    "dt.fit(X_train_processed, yTrain)\n",
    "y_pred = dt.predict(X_test_processed)"
   ]
  },
  {
   "cell_type": "code",
   "execution_count": 53,
   "id": "998e746a-88f7-4dd4-bb1c-c759936b70f2",
   "metadata": {},
   "outputs": [
    {
     "name": "stdout",
     "output_type": "stream",
     "text": [
      "Accuracy: 86.27450980392157\n",
      "\n",
      "Classification Report:\n",
      "               precision    recall  f1-score   support\n",
      "\n",
      "          NO       1.00      0.67      0.80        21\n",
      "         YES       0.81      1.00      0.90        30\n",
      "\n",
      "    accuracy                           0.86        51\n",
      "   macro avg       0.91      0.83      0.85        51\n",
      "weighted avg       0.89      0.86      0.86        51\n",
      "\n"
     ]
    }
   ],
   "source": [
    "from sklearn.metrics import accuracy_score, confusion_matrix, classification_report\n",
    "\n",
    "print(\"Accuracy:\", accuracy_score(yTest, y_pred)*100)\n",
    "print(\"\\nClassification Report:\\n\", classification_report(yTest, y_pred))"
   ]
  },
  {
   "cell_type": "markdown",
   "id": "6a3f6e70-8e5c-4090-9c66-97646feca072",
   "metadata": {},
   "source": [
    "<h3>Random Forest Classifier</h3>"
   ]
  },
  {
   "cell_type": "code",
   "execution_count": 54,
   "id": "add2d44f-9ebb-497e-be4d-d97ce1f9bdfe",
   "metadata": {},
   "outputs": [],
   "source": [
    "from sklearn.ensemble import RandomForestClassifier\n",
    "\n",
    "# Create and fit the Random Forest Classifier\n",
    "rf = RandomForestClassifier(n_estimators=100, max_depth=10, random_state=50)\n",
    "rf.fit(X_train_processed, yTrain)\n",
    "\n",
    "# Make predictions\n",
    "y_pred = rf.predict(X_test_processed)"
   ]
  },
  {
   "cell_type": "code",
   "execution_count": 55,
   "id": "a8ae67e1-db6a-4c35-9da3-8f5d1392682a",
   "metadata": {},
   "outputs": [
    {
     "name": "stdout",
     "output_type": "stream",
     "text": [
      "Accuracy: 96.07843137254902\n",
      "\n",
      "Classification Report:\n",
      "               precision    recall  f1-score   support\n",
      "\n",
      "          NO       0.91      1.00      0.95        21\n",
      "         YES       1.00      0.93      0.97        30\n",
      "\n",
      "    accuracy                           0.96        51\n",
      "   macro avg       0.96      0.97      0.96        51\n",
      "weighted avg       0.96      0.96      0.96        51\n",
      "\n"
     ]
    }
   ],
   "source": [
    "from sklearn.metrics import accuracy_score, confusion_matrix, classification_report\n",
    "\n",
    "print(\"Accuracy:\", accuracy_score(yTest, y_pred)*100)\n",
    "print(\"\\nClassification Report:\\n\", classification_report(yTest, y_pred))"
   ]
  },
  {
   "cell_type": "markdown",
   "id": "416089f4-0988-49db-ac83-ea61f3015d76",
   "metadata": {},
   "source": [
    "<h3>AdaBoost Classifier</h3>"
   ]
  },
  {
   "cell_type": "code",
   "execution_count": 10,
   "id": "1afa6966-b95c-433c-bc0a-3ed8661966b7",
   "metadata": {},
   "outputs": [],
   "source": [
    "from sklearn.pipeline import Pipeline\n",
    "from sklearn.ensemble import AdaBoostClassifier\n",
    "model=AdaBoostClassifier(n_estimators=50, learning_rate=1, random_state=0)\n",
    "adaboost_pipeline = Pipeline([\n",
    "    ('preprocessor', preprocessor),\n",
    "    ('model', model)\n",
    "])\n",
    "adaboost_pipeline.fit(xTrain, yTrain)\n",
    "y_pred = adaboost_pipeline.predict(xTest)"
   ]
  },
  {
   "cell_type": "code",
   "execution_count": 8,
   "id": "58d47c94-24e0-4fca-a009-e42cc08fa0f1",
   "metadata": {},
   "outputs": [
    {
     "name": "stdout",
     "output_type": "stream",
     "text": [
      "Accuracy: 100.0\n",
      "\n",
      "Classification Report:\n",
      "               precision    recall  f1-score   support\n",
      "\n",
      "          NO       1.00      1.00      1.00        21\n",
      "         YES       1.00      1.00      1.00        30\n",
      "\n",
      "    accuracy                           1.00        51\n",
      "   macro avg       1.00      1.00      1.00        51\n",
      "weighted avg       1.00      1.00      1.00        51\n",
      "\n"
     ]
    }
   ],
   "source": [
    "from sklearn.metrics import accuracy_score, classification_report\n",
    "\n",
    "print(\"Accuracy:\", accuracy_score(yTest, y_pred)*100)\n",
    "print(\"\\nClassification Report:\\n\", classification_report(yTest, y_pred))"
   ]
  },
  {
   "cell_type": "code",
   "execution_count": 14,
   "id": "0379c297-d12f-46f5-835e-d561985a7803",
   "metadata": {},
   "outputs": [],
   "source": [
    "### we are getting 100% accuracy from adaboost classifier . So we will use it for our final model"
   ]
  },
  {
   "cell_type": "markdown",
   "id": "f61be63a-d65c-4390-b22b-b190d4c445d4",
   "metadata": {},
   "source": []
  },
  {
   "cell_type": "markdown",
   "id": "1de25383-8a44-46d3-a9ec-141dd5e4ba22",
   "metadata": {},
   "source": [
    "<h3>Exporting the model</h3>"
   ]
  },
  {
   "cell_type": "code",
   "execution_count": 9,
   "id": "fd063508-7bcc-42e8-b436-7f31610a3693",
   "metadata": {},
   "outputs": [],
   "source": [
    "import pickle\n",
    "\n",
    "\n",
    "with open('df1.pkl', 'wb') as file:\n",
    "    pickle.dump(df, file)\n",
    "\n",
    "with open('pipe1.pkl', 'wb') as file:\n",
    "    pickle.dump(adaboost_pipeline, file)  "
   ]
  },
  {
   "cell_type": "code",
   "execution_count": null,
   "id": "cf1a0af1-0b6d-4935-9be8-7fe038a6c768",
   "metadata": {},
   "outputs": [],
   "source": []
  }
 ],
 "metadata": {
  "kernelspec": {
   "display_name": "Python 3 (ipykernel)",
   "language": "python",
   "name": "python3"
  },
  "language_info": {
   "codemirror_mode": {
    "name": "ipython",
    "version": 3
   },
   "file_extension": ".py",
   "mimetype": "text/x-python",
   "name": "python",
   "nbconvert_exporter": "python",
   "pygments_lexer": "ipython3",
   "version": "3.11.7"
  }
 },
 "nbformat": 4,
 "nbformat_minor": 5
}
